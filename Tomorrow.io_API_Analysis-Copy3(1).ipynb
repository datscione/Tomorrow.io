{
 "cells": [
  {
   "cell_type": "code",
   "execution_count": 1,
   "metadata": {},
   "outputs": [],
   "source": [
    "import pandas as pd\n",
    "import numpy as np\n",
    "import matplotlib.pyplot as plt\n",
    "import sys \n",
    "import requests\n",
    "import datetime as dt\n",
    "import seaborn as sns\n",
    "from matplotlib import dates as mpl_dates"
   ]
  },
  {
   "cell_type": "code",
   "execution_count": 2,
   "metadata": {},
   "outputs": [],
   "source": [
    "key = 'private key' #see Tomorrow.io to obtain a private key"
   ]
  },
  {
   "cell_type": "code",
   "execution_count": 3,
   "metadata": {},
   "outputs": [],
   "source": [
    "#curl --request GET --url \\\n",
    "url = 'https://api.tomorrow.io/v4/timelines'"
   ]
  },
  {
   "cell_type": "code",
   "execution_count": 4,
   "metadata": {},
   "outputs": [],
   "source": [
    "querystring = {\n",
    "\"location\":\"64.8, 147.7\",\n",
    "\"fields\":[\"precipitationIntensity\", \"precipitationType\", \"temperature\", \"cloudCover\"],\n",
    "\"units\":\"imperial\",\n",
    "\"timesteps\":\"1d\",\n",
    "\"apikey\":key}"
   ]
  },
  {
   "cell_type": "code",
   "execution_count": 5,
   "metadata": {},
   "outputs": [],
   "source": [
    "response = requests.request(\"GET\", url, params=querystring)"
   ]
  },
  {
   "cell_type": "code",
   "execution_count": 6,
   "metadata": {},
   "outputs": [
    {
     "data": {
      "text/plain": [
       "'{\"data\":{\"timelines\":[{\"timestep\":\"1d\",\"startTime\":\"2021-09-29T19:00:00Z\",\"endTime\":\"2021-10-14T19:00:00Z\",\"intervals\":[{\"startTime\":\"2021-09-29T19:00:00Z\",\"values\":{\"precipitationIntensity\":0.001,\"precipitationType\":2,\"temperature\":28.11,\"cloudCover\":100}},{\"startTime\":\"2021-09-30T19:00:00Z\",\"values\":{\"precipitationIntensity\":0.0111,\"precipitationType\":2,\"temperature\":26.33,\"cloudCover\":100}},{\"startTime\":\"2021-10-01T19:00:00Z\",\"values\":{\"precipitationIntensity\":0.0004,\"precipitationType\":2,\"temperature\":36.1,\"cloudCover\":100}},{\"startTime\":\"2021-10-02T19:00:00Z\",\"values\":{\"precipitationIntensity\":0.0008,\"precipitationType\":2,\"temperature\":27.88,\"cloudCover\":96.92}},{\"startTime\":\"2021-10-03T19:00:00Z\",\"values\":{\"precipitationIntensity\":0.0012,\"precipitationType\":2,\"temperature\":20.55,\"cloudCover\":95.83}},{\"startTime\":\"2021-10-04T19:00:00Z\",\"values\":{\"precipitationIntensity\":0.0007,\"precipitationType\":2,\"temperature\":17.38,\"cloudCover\":91.44}},{\"startTime\":\"2021-10-05T19:00:00Z\",\"values\":{\"precipitationIntensity\":0,\"precipitationType\":0,\"temperature\":16.57,\"cloudCover\":76.91}},{\"startTime\":\"2021-10-06T19:00:00Z\",\"values\":{\"precipitationIntensity\":0,\"precipitationType\":0,\"temperature\":19.42,\"cloudCover\":100}},{\"startTime\":\"2021-10-07T19:00:00Z\",\"values\":{\"precipitationIntensity\":0,\"precipitationType\":0,\"temperature\":19.36,\"cloudCover\":100}},{\"startTime\":\"2021-10-08T19:00:00Z\",\"values\":{\"precipitationIntensity\":0,\"precipitationType\":0,\"temperature\":19.98,\"cloudCover\":99.81}},{\"startTime\":\"2021-10-09T19:00:00Z\",\"values\":{\"precipitationIntensity\":0,\"precipitationType\":0,\"temperature\":17.51,\"cloudCover\":100}},{\"startTime\":\"2021-10-10T19:00:00Z\",\"values\":{\"precipitationIntensity\":0,\"precipitationType\":0,\"temperature\":19.04,\"cloudCover\":100}},{\"startTime\":\"2021-10-11T19:00:00Z\",\"values\":{\"precipitationIntensity\":0,\"precipitationType\":0,\"temperature\":15.6,\"cloudCover\":100}},{\"startTime\":\"2021-10-12T19:00:00Z\",\"values\":{\"precipitationIntensity\":0.0017,\"precipitationType\":2,\"temperature\":11.75,\"cloudCover\":100}},{\"startTime\":\"2021-10-13T19:00:00Z\",\"values\":{\"precipitationIntensity\":0.003,\"precipitationType\":2,\"temperature\":10.8,\"cloudCover\":100}},{\"startTime\":\"2021-10-14T19:00:00Z\",\"values\":{\"precipitationIntensity\":0.0004,\"precipitationType\":2,\"temperature\":1.29,\"cloudCover\":98.53}}]}]}}'"
      ]
     },
     "execution_count": 6,
     "metadata": {},
     "output_type": "execute_result"
    }
   ],
   "source": [
    "response.text"
   ]
  },
  {
   "cell_type": "code",
   "execution_count": 7,
   "metadata": {},
   "outputs": [
    {
     "data": {
      "text/plain": [
       "str"
      ]
     },
     "execution_count": 7,
     "metadata": {},
     "output_type": "execute_result"
    }
   ],
   "source": [
    "#check response type\n",
    "type(response.text)"
   ]
  },
  {
   "cell_type": "code",
   "execution_count": 8,
   "metadata": {},
   "outputs": [],
   "source": [
    "response_json = response.json()"
   ]
  },
  {
   "cell_type": "code",
   "execution_count": 9,
   "metadata": {},
   "outputs": [
    {
     "data": {
      "text/plain": [
       "{'data': {'timelines': [{'timestep': '1d',\n",
       "    'startTime': '2021-09-29T19:00:00Z',\n",
       "    'endTime': '2021-10-14T19:00:00Z',\n",
       "    'intervals': [{'startTime': '2021-09-29T19:00:00Z',\n",
       "      'values': {'precipitationIntensity': 0.001,\n",
       "       'precipitationType': 2,\n",
       "       'temperature': 28.11,\n",
       "       'cloudCover': 100}},\n",
       "     {'startTime': '2021-09-30T19:00:00Z',\n",
       "      'values': {'precipitationIntensity': 0.0111,\n",
       "       'precipitationType': 2,\n",
       "       'temperature': 26.33,\n",
       "       'cloudCover': 100}},\n",
       "     {'startTime': '2021-10-01T19:00:00Z',\n",
       "      'values': {'precipitationIntensity': 0.0004,\n",
       "       'precipitationType': 2,\n",
       "       'temperature': 36.1,\n",
       "       'cloudCover': 100}},\n",
       "     {'startTime': '2021-10-02T19:00:00Z',\n",
       "      'values': {'precipitationIntensity': 0.0008,\n",
       "       'precipitationType': 2,\n",
       "       'temperature': 27.88,\n",
       "       'cloudCover': 96.92}},\n",
       "     {'startTime': '2021-10-03T19:00:00Z',\n",
       "      'values': {'precipitationIntensity': 0.0012,\n",
       "       'precipitationType': 2,\n",
       "       'temperature': 20.55,\n",
       "       'cloudCover': 95.83}},\n",
       "     {'startTime': '2021-10-04T19:00:00Z',\n",
       "      'values': {'precipitationIntensity': 0.0007,\n",
       "       'precipitationType': 2,\n",
       "       'temperature': 17.38,\n",
       "       'cloudCover': 91.44}},\n",
       "     {'startTime': '2021-10-05T19:00:00Z',\n",
       "      'values': {'precipitationIntensity': 0,\n",
       "       'precipitationType': 0,\n",
       "       'temperature': 16.57,\n",
       "       'cloudCover': 76.91}},\n",
       "     {'startTime': '2021-10-06T19:00:00Z',\n",
       "      'values': {'precipitationIntensity': 0,\n",
       "       'precipitationType': 0,\n",
       "       'temperature': 19.42,\n",
       "       'cloudCover': 100}},\n",
       "     {'startTime': '2021-10-07T19:00:00Z',\n",
       "      'values': {'precipitationIntensity': 0,\n",
       "       'precipitationType': 0,\n",
       "       'temperature': 19.36,\n",
       "       'cloudCover': 100}},\n",
       "     {'startTime': '2021-10-08T19:00:00Z',\n",
       "      'values': {'precipitationIntensity': 0,\n",
       "       'precipitationType': 0,\n",
       "       'temperature': 19.98,\n",
       "       'cloudCover': 99.81}},\n",
       "     {'startTime': '2021-10-09T19:00:00Z',\n",
       "      'values': {'precipitationIntensity': 0,\n",
       "       'precipitationType': 0,\n",
       "       'temperature': 17.51,\n",
       "       'cloudCover': 100}},\n",
       "     {'startTime': '2021-10-10T19:00:00Z',\n",
       "      'values': {'precipitationIntensity': 0,\n",
       "       'precipitationType': 0,\n",
       "       'temperature': 19.04,\n",
       "       'cloudCover': 100}},\n",
       "     {'startTime': '2021-10-11T19:00:00Z',\n",
       "      'values': {'precipitationIntensity': 0,\n",
       "       'precipitationType': 0,\n",
       "       'temperature': 15.6,\n",
       "       'cloudCover': 100}},\n",
       "     {'startTime': '2021-10-12T19:00:00Z',\n",
       "      'values': {'precipitationIntensity': 0.0017,\n",
       "       'precipitationType': 2,\n",
       "       'temperature': 11.75,\n",
       "       'cloudCover': 100}},\n",
       "     {'startTime': '2021-10-13T19:00:00Z',\n",
       "      'values': {'precipitationIntensity': 0.003,\n",
       "       'precipitationType': 2,\n",
       "       'temperature': 10.8,\n",
       "       'cloudCover': 100}},\n",
       "     {'startTime': '2021-10-14T19:00:00Z',\n",
       "      'values': {'precipitationIntensity': 0.0004,\n",
       "       'precipitationType': 2,\n",
       "       'temperature': 1.29,\n",
       "       'cloudCover': 98.53}}]}]}}"
      ]
     },
     "execution_count": 9,
     "metadata": {},
     "output_type": "execute_result"
    }
   ],
   "source": [
    "#observe the dictionary\n",
    "response_json"
   ]
  },
  {
   "cell_type": "code",
   "execution_count": 10,
   "metadata": {},
   "outputs": [
    {
     "data": {
      "text/plain": [
       "dict_keys(['data'])"
      ]
     },
     "execution_count": 10,
     "metadata": {},
     "output_type": "execute_result"
    }
   ],
   "source": [
    "response_json.keys()"
   ]
  },
  {
   "cell_type": "code",
   "execution_count": 11,
   "metadata": {},
   "outputs": [
    {
     "data": {
      "text/plain": [
       "dict_keys(['timelines'])"
      ]
     },
     "execution_count": 11,
     "metadata": {},
     "output_type": "execute_result"
    }
   ],
   "source": [
    "response_json['data'].keys()"
   ]
  },
  {
   "cell_type": "code",
   "execution_count": 12,
   "metadata": {},
   "outputs": [
    {
     "data": {
      "text/plain": [
       "{'precipitationIntensity': 0.0111,\n",
       " 'precipitationType': 2,\n",
       " 'temperature': 26.33,\n",
       " 'cloudCover': 100}"
      ]
     },
     "execution_count": 12,
     "metadata": {},
     "output_type": "execute_result"
    }
   ],
   "source": [
    "#obtain observations for a slice of the data\n",
    "response_json['data']['timelines'][0]['intervals'][1]['values']"
   ]
  },
  {
   "cell_type": "code",
   "execution_count": 13,
   "metadata": {},
   "outputs": [
    {
     "data": {
      "text/plain": [
       "16"
      ]
     },
     "execution_count": 13,
     "metadata": {},
     "output_type": "execute_result"
    }
   ],
   "source": [
    "#length of observations\n",
    "length = len(response_json['data']['timelines'][0]['intervals'])\n",
    "length"
   ]
  },
  {
   "cell_type": "markdown",
   "metadata": {},
   "source": [
    "There are 15 weather entries in this dataset."
   ]
  },
  {
   "cell_type": "code",
   "execution_count": 14,
   "metadata": {},
   "outputs": [
    {
     "name": "stdout",
     "output_type": "stream",
     "text": [
      "{'startTime': '2021-09-29T19:00:00Z', 'values': {'precipitationIntensity': 0.001, 'precipitationType': 2, 'temperature': 28.11, 'cloudCover': 100}}\n",
      "{'startTime': '2021-09-30T19:00:00Z', 'values': {'precipitationIntensity': 0.0111, 'precipitationType': 2, 'temperature': 26.33, 'cloudCover': 100}}\n",
      "{'startTime': '2021-10-01T19:00:00Z', 'values': {'precipitationIntensity': 0.0004, 'precipitationType': 2, 'temperature': 36.1, 'cloudCover': 100}}\n",
      "{'startTime': '2021-10-02T19:00:00Z', 'values': {'precipitationIntensity': 0.0008, 'precipitationType': 2, 'temperature': 27.88, 'cloudCover': 96.92}}\n",
      "{'startTime': '2021-10-03T19:00:00Z', 'values': {'precipitationIntensity': 0.0012, 'precipitationType': 2, 'temperature': 20.55, 'cloudCover': 95.83}}\n",
      "{'startTime': '2021-10-04T19:00:00Z', 'values': {'precipitationIntensity': 0.0007, 'precipitationType': 2, 'temperature': 17.38, 'cloudCover': 91.44}}\n",
      "{'startTime': '2021-10-05T19:00:00Z', 'values': {'precipitationIntensity': 0, 'precipitationType': 0, 'temperature': 16.57, 'cloudCover': 76.91}}\n",
      "{'startTime': '2021-10-06T19:00:00Z', 'values': {'precipitationIntensity': 0, 'precipitationType': 0, 'temperature': 19.42, 'cloudCover': 100}}\n",
      "{'startTime': '2021-10-07T19:00:00Z', 'values': {'precipitationIntensity': 0, 'precipitationType': 0, 'temperature': 19.36, 'cloudCover': 100}}\n",
      "{'startTime': '2021-10-08T19:00:00Z', 'values': {'precipitationIntensity': 0, 'precipitationType': 0, 'temperature': 19.98, 'cloudCover': 99.81}}\n",
      "{'startTime': '2021-10-09T19:00:00Z', 'values': {'precipitationIntensity': 0, 'precipitationType': 0, 'temperature': 17.51, 'cloudCover': 100}}\n",
      "{'startTime': '2021-10-10T19:00:00Z', 'values': {'precipitationIntensity': 0, 'precipitationType': 0, 'temperature': 19.04, 'cloudCover': 100}}\n",
      "{'startTime': '2021-10-11T19:00:00Z', 'values': {'precipitationIntensity': 0, 'precipitationType': 0, 'temperature': 15.6, 'cloudCover': 100}}\n",
      "{'startTime': '2021-10-12T19:00:00Z', 'values': {'precipitationIntensity': 0.0017, 'precipitationType': 2, 'temperature': 11.75, 'cloudCover': 100}}\n",
      "{'startTime': '2021-10-13T19:00:00Z', 'values': {'precipitationIntensity': 0.003, 'precipitationType': 2, 'temperature': 10.8, 'cloudCover': 100}}\n",
      "{'startTime': '2021-10-14T19:00:00Z', 'values': {'precipitationIntensity': 0.0004, 'precipitationType': 2, 'temperature': 1.29, 'cloudCover': 98.53}}\n"
     ]
    }
   ],
   "source": [
    "for r in range(length):\n",
    "    print(response_json['data']['timelines'][0]['intervals'][r])"
   ]
  },
  {
   "cell_type": "code",
   "execution_count": 15,
   "metadata": {},
   "outputs": [
    {
     "data": {
      "text/plain": [
       "28.11"
      ]
     },
     "execution_count": 15,
     "metadata": {},
     "output_type": "execute_result"
    }
   ],
   "source": [
    "#first recorded temperature\n",
    "temp = response_json['data']['timelines'][0]['intervals'][0]['values']['temperature']\n",
    "temp"
   ]
  },
  {
   "cell_type": "code",
   "execution_count": 16,
   "metadata": {},
   "outputs": [
    {
     "data": {
      "text/plain": [
       "[{'startTime': '2021-09-29T19:00:00Z',\n",
       "  'values': {'precipitationIntensity': 0.001,\n",
       "   'precipitationType': 2,\n",
       "   'temperature': 28.11,\n",
       "   'cloudCover': 100}},\n",
       " {'startTime': '2021-09-30T19:00:00Z',\n",
       "  'values': {'precipitationIntensity': 0.0111,\n",
       "   'precipitationType': 2,\n",
       "   'temperature': 26.33,\n",
       "   'cloudCover': 100}},\n",
       " {'startTime': '2021-10-01T19:00:00Z',\n",
       "  'values': {'precipitationIntensity': 0.0004,\n",
       "   'precipitationType': 2,\n",
       "   'temperature': 36.1,\n",
       "   'cloudCover': 100}},\n",
       " {'startTime': '2021-10-02T19:00:00Z',\n",
       "  'values': {'precipitationIntensity': 0.0008,\n",
       "   'precipitationType': 2,\n",
       "   'temperature': 27.88,\n",
       "   'cloudCover': 96.92}},\n",
       " {'startTime': '2021-10-03T19:00:00Z',\n",
       "  'values': {'precipitationIntensity': 0.0012,\n",
       "   'precipitationType': 2,\n",
       "   'temperature': 20.55,\n",
       "   'cloudCover': 95.83}},\n",
       " {'startTime': '2021-10-04T19:00:00Z',\n",
       "  'values': {'precipitationIntensity': 0.0007,\n",
       "   'precipitationType': 2,\n",
       "   'temperature': 17.38,\n",
       "   'cloudCover': 91.44}},\n",
       " {'startTime': '2021-10-05T19:00:00Z',\n",
       "  'values': {'precipitationIntensity': 0,\n",
       "   'precipitationType': 0,\n",
       "   'temperature': 16.57,\n",
       "   'cloudCover': 76.91}},\n",
       " {'startTime': '2021-10-06T19:00:00Z',\n",
       "  'values': {'precipitationIntensity': 0,\n",
       "   'precipitationType': 0,\n",
       "   'temperature': 19.42,\n",
       "   'cloudCover': 100}},\n",
       " {'startTime': '2021-10-07T19:00:00Z',\n",
       "  'values': {'precipitationIntensity': 0,\n",
       "   'precipitationType': 0,\n",
       "   'temperature': 19.36,\n",
       "   'cloudCover': 100}},\n",
       " {'startTime': '2021-10-08T19:00:00Z',\n",
       "  'values': {'precipitationIntensity': 0,\n",
       "   'precipitationType': 0,\n",
       "   'temperature': 19.98,\n",
       "   'cloudCover': 99.81}},\n",
       " {'startTime': '2021-10-09T19:00:00Z',\n",
       "  'values': {'precipitationIntensity': 0,\n",
       "   'precipitationType': 0,\n",
       "   'temperature': 17.51,\n",
       "   'cloudCover': 100}},\n",
       " {'startTime': '2021-10-10T19:00:00Z',\n",
       "  'values': {'precipitationIntensity': 0,\n",
       "   'precipitationType': 0,\n",
       "   'temperature': 19.04,\n",
       "   'cloudCover': 100}},\n",
       " {'startTime': '2021-10-11T19:00:00Z',\n",
       "  'values': {'precipitationIntensity': 0,\n",
       "   'precipitationType': 0,\n",
       "   'temperature': 15.6,\n",
       "   'cloudCover': 100}},\n",
       " {'startTime': '2021-10-12T19:00:00Z',\n",
       "  'values': {'precipitationIntensity': 0.0017,\n",
       "   'precipitationType': 2,\n",
       "   'temperature': 11.75,\n",
       "   'cloudCover': 100}},\n",
       " {'startTime': '2021-10-13T19:00:00Z',\n",
       "  'values': {'precipitationIntensity': 0.003,\n",
       "   'precipitationType': 2,\n",
       "   'temperature': 10.8,\n",
       "   'cloudCover': 100}},\n",
       " {'startTime': '2021-10-14T19:00:00Z',\n",
       "  'values': {'precipitationIntensity': 0.0004,\n",
       "   'precipitationType': 2,\n",
       "   'temperature': 1.29,\n",
       "   'cloudCover': 98.53}}]"
      ]
     },
     "execution_count": 16,
     "metadata": {},
     "output_type": "execute_result"
    }
   ],
   "source": [
    "forecasts = response_json['data']['timelines'][0]['intervals']\n",
    "forecasts"
   ]
  },
  {
   "cell_type": "code",
   "execution_count": 17,
   "metadata": {},
   "outputs": [
    {
     "name": "stdout",
     "output_type": "stream",
     "text": [
      "On 2021-09-29T19:0,the temperature will be 28.11,with 100% cloud coverage and 0.001 in/h precipitation.\n",
      "On 2021-09-30T19:0,the temperature will be 26.33,with 100% cloud coverage and 0.011 in/h precipitation.\n",
      "On 2021-10-01T19:0,the temperature will be 36.1,with 100% cloud coverage and 0.000 in/h precipitation.\n",
      "On 2021-10-02T19:0,the temperature will be 27.88,with 96.92% cloud coverage and 0.001 in/h precipitation.\n",
      "On 2021-10-03T19:0,the temperature will be 20.55,with 95.83% cloud coverage and 0.001 in/h precipitation.\n",
      "On 2021-10-04T19:0,the temperature will be 17.38,with 91.44% cloud coverage and 0.001 in/h precipitation.\n",
      "On 2021-10-05T19:0,the temperature will be 16.57,with 76.91% cloud coverage and 0.000 in/h precipitation.\n",
      "On 2021-10-06T19:0,the temperature will be 19.42,with 100% cloud coverage and 0.000 in/h precipitation.\n",
      "On 2021-10-07T19:0,the temperature will be 19.36,with 100% cloud coverage and 0.000 in/h precipitation.\n",
      "On 2021-10-08T19:0,the temperature will be 19.98,with 99.81% cloud coverage and 0.000 in/h precipitation.\n",
      "On 2021-10-09T19:0,the temperature will be 17.51,with 100% cloud coverage and 0.000 in/h precipitation.\n",
      "On 2021-10-10T19:0,the temperature will be 19.04,with 100% cloud coverage and 0.000 in/h precipitation.\n",
      "On 2021-10-11T19:0,the temperature will be 15.6,with 100% cloud coverage and 0.000 in/h precipitation.\n",
      "On 2021-10-12T19:0,the temperature will be 11.75,with 100% cloud coverage and 0.002 in/h precipitation.\n",
      "On 2021-10-13T19:0,the temperature will be 10.8,with 100% cloud coverage and 0.003 in/h precipitation.\n",
      "On 2021-10-14T19:0,the temperature will be 1.29,with 98.53% cloud coverage and 0.000 in/h precipitation.\n"
     ]
    }
   ],
   "source": [
    "weather_dict = {}\n",
    "dates, temps, cloud_coverage, precipitation_intensity, precipitation_type = [], [], [], [], []\n",
    "\n",
    "for daily_forecast in forecasts:\n",
    "    date = daily_forecast['startTime'][0:15]\n",
    "    temp = daily_forecast['values']['temperature']\n",
    "    cloudy = daily_forecast['values']['cloudCover']\n",
    "    precip_int = daily_forecast['values']['precipitationIntensity']\n",
    "    precip_type = daily_forecast['values']['precipitationType']\n",
    "    print(f'On {date},the temperature will be {temp},with {cloudy}% cloud coverage and {(precip_int):.3f} in/h precipitation.')\n",
    "    \n",
    "    dates.append(date)\n",
    "    temps.append(temp)\n",
    "    cloud_coverage.append(cloudy)\n",
    "    precipitation_intensity.append(precip_int)\n",
    "    precipitation_type.append(precip_type)"
   ]
  },
  {
   "cell_type": "code",
   "execution_count": 18,
   "metadata": {},
   "outputs": [
    {
     "data": {
      "text/plain": [
       "['2021-09-29T19:0',\n",
       " '2021-09-30T19:0',\n",
       " '2021-10-01T19:0',\n",
       " '2021-10-02T19:0',\n",
       " '2021-10-03T19:0',\n",
       " '2021-10-04T19:0',\n",
       " '2021-10-05T19:0',\n",
       " '2021-10-06T19:0',\n",
       " '2021-10-07T19:0',\n",
       " '2021-10-08T19:0',\n",
       " '2021-10-09T19:0',\n",
       " '2021-10-10T19:0',\n",
       " '2021-10-11T19:0',\n",
       " '2021-10-12T19:0',\n",
       " '2021-10-13T19:0',\n",
       " '2021-10-14T19:0']"
      ]
     },
     "execution_count": 18,
     "metadata": {},
     "output_type": "execute_result"
    }
   ],
   "source": [
    "dates"
   ]
  },
  {
   "cell_type": "code",
   "execution_count": 19,
   "metadata": {},
   "outputs": [],
   "source": [
    "#add observations to an empty dataframe\n",
    "df = pd.DataFrame() #create dataframe\n",
    "#populate dataframe with observations\n",
    "df['date'] = dates\n",
    "df['temperature'] = temps\n",
    "df['perc_clouds'] = cloud_coverage\n",
    "df['precip_int'] = precipitation_intensity\n",
    "df['precip_type'] = precipitation_type"
   ]
  },
  {
   "cell_type": "code",
   "execution_count": 20,
   "metadata": {},
   "outputs": [
    {
     "data": {
      "text/html": [
       "<div>\n",
       "<style scoped>\n",
       "    .dataframe tbody tr th:only-of-type {\n",
       "        vertical-align: middle;\n",
       "    }\n",
       "\n",
       "    .dataframe tbody tr th {\n",
       "        vertical-align: top;\n",
       "    }\n",
       "\n",
       "    .dataframe thead th {\n",
       "        text-align: right;\n",
       "    }\n",
       "</style>\n",
       "<table border=\"1\" class=\"dataframe\">\n",
       "  <thead>\n",
       "    <tr style=\"text-align: right;\">\n",
       "      <th></th>\n",
       "      <th>date</th>\n",
       "      <th>temperature</th>\n",
       "      <th>perc_clouds</th>\n",
       "      <th>precip_int</th>\n",
       "      <th>precip_type</th>\n",
       "    </tr>\n",
       "  </thead>\n",
       "  <tbody>\n",
       "    <tr>\n",
       "      <th>0</th>\n",
       "      <td>2021-09-29T19:0</td>\n",
       "      <td>28.11</td>\n",
       "      <td>100.0</td>\n",
       "      <td>0.0010</td>\n",
       "      <td>2</td>\n",
       "    </tr>\n",
       "    <tr>\n",
       "      <th>1</th>\n",
       "      <td>2021-09-30T19:0</td>\n",
       "      <td>26.33</td>\n",
       "      <td>100.0</td>\n",
       "      <td>0.0111</td>\n",
       "      <td>2</td>\n",
       "    </tr>\n",
       "    <tr>\n",
       "      <th>2</th>\n",
       "      <td>2021-10-01T19:0</td>\n",
       "      <td>36.10</td>\n",
       "      <td>100.0</td>\n",
       "      <td>0.0004</td>\n",
       "      <td>2</td>\n",
       "    </tr>\n",
       "  </tbody>\n",
       "</table>\n",
       "</div>"
      ],
      "text/plain": [
       "              date  temperature  perc_clouds  precip_int  precip_type\n",
       "0  2021-09-29T19:0        28.11        100.0      0.0010            2\n",
       "1  2021-09-30T19:0        26.33        100.0      0.0111            2\n",
       "2  2021-10-01T19:0        36.10        100.0      0.0004            2"
      ]
     },
     "execution_count": 20,
     "metadata": {},
     "output_type": "execute_result"
    }
   ],
   "source": [
    "#check first three rows of created dataframe\n",
    "df.head(3)"
   ]
  },
  {
   "cell_type": "code",
   "execution_count": 21,
   "metadata": {},
   "outputs": [
    {
     "name": "stdout",
     "output_type": "stream",
     "text": [
      "<class 'pandas.core.frame.DataFrame'>\n",
      "RangeIndex: 16 entries, 0 to 15\n",
      "Data columns (total 5 columns):\n",
      " #   Column       Non-Null Count  Dtype  \n",
      "---  ------       --------------  -----  \n",
      " 0   date         16 non-null     object \n",
      " 1   temperature  16 non-null     float64\n",
      " 2   perc_clouds  16 non-null     float64\n",
      " 3   precip_int   16 non-null     float64\n",
      " 4   precip_type  16 non-null     int64  \n",
      "dtypes: float64(3), int64(1), object(1)\n",
      "memory usage: 768.0+ bytes\n"
     ]
    }
   ],
   "source": [
    "df.info()"
   ]
  },
  {
   "cell_type": "markdown",
   "metadata": {},
   "source": [
    "There are no missing values. The date column should be converted to datetime format. The other data types make sense."
   ]
  },
  {
   "cell_type": "code",
   "execution_count": 22,
   "metadata": {},
   "outputs": [
    {
     "data": {
      "text/plain": [
       "pandas.core.series.Series"
      ]
     },
     "execution_count": 22,
     "metadata": {},
     "output_type": "execute_result"
    }
   ],
   "source": [
    "#check type of date column\n",
    "type(df['date'])"
   ]
  },
  {
   "cell_type": "code",
   "execution_count": 23,
   "metadata": {},
   "outputs": [
    {
     "data": {
      "text/plain": [
       "0   2021-09-29 19:00:00\n",
       "1   2021-09-30 19:00:00\n",
       "2   2021-10-01 19:00:00\n",
       "Name: date, dtype: datetime64[ns]"
      ]
     },
     "execution_count": 23,
     "metadata": {},
     "output_type": "execute_result"
    }
   ],
   "source": [
    "#convert date column to datetime\n",
    "df['date'] = pd.to_datetime(df['date'])\n",
    "df['date'].head(3)"
   ]
  },
  {
   "cell_type": "code",
   "execution_count": 24,
   "metadata": {},
   "outputs": [
    {
     "data": {
      "text/html": [
       "<div>\n",
       "<style scoped>\n",
       "    .dataframe tbody tr th:only-of-type {\n",
       "        vertical-align: middle;\n",
       "    }\n",
       "\n",
       "    .dataframe tbody tr th {\n",
       "        vertical-align: top;\n",
       "    }\n",
       "\n",
       "    .dataframe thead th {\n",
       "        text-align: right;\n",
       "    }\n",
       "</style>\n",
       "<table border=\"1\" class=\"dataframe\">\n",
       "  <thead>\n",
       "    <tr style=\"text-align: right;\">\n",
       "      <th></th>\n",
       "      <th>date</th>\n",
       "      <th>temperature</th>\n",
       "      <th>perc_clouds</th>\n",
       "      <th>precip_int</th>\n",
       "      <th>precip_type</th>\n",
       "      <th>day</th>\n",
       "    </tr>\n",
       "  </thead>\n",
       "  <tbody>\n",
       "    <tr>\n",
       "      <th>0</th>\n",
       "      <td>2021-09-29 19:00:00</td>\n",
       "      <td>28.11</td>\n",
       "      <td>100.00</td>\n",
       "      <td>0.0010</td>\n",
       "      <td>2</td>\n",
       "      <td>29</td>\n",
       "    </tr>\n",
       "    <tr>\n",
       "      <th>1</th>\n",
       "      <td>2021-09-30 19:00:00</td>\n",
       "      <td>26.33</td>\n",
       "      <td>100.00</td>\n",
       "      <td>0.0111</td>\n",
       "      <td>2</td>\n",
       "      <td>30</td>\n",
       "    </tr>\n",
       "    <tr>\n",
       "      <th>2</th>\n",
       "      <td>2021-10-01 19:00:00</td>\n",
       "      <td>36.10</td>\n",
       "      <td>100.00</td>\n",
       "      <td>0.0004</td>\n",
       "      <td>2</td>\n",
       "      <td>1</td>\n",
       "    </tr>\n",
       "    <tr>\n",
       "      <th>3</th>\n",
       "      <td>2021-10-02 19:00:00</td>\n",
       "      <td>27.88</td>\n",
       "      <td>96.92</td>\n",
       "      <td>0.0008</td>\n",
       "      <td>2</td>\n",
       "      <td>2</td>\n",
       "    </tr>\n",
       "    <tr>\n",
       "      <th>4</th>\n",
       "      <td>2021-10-03 19:00:00</td>\n",
       "      <td>20.55</td>\n",
       "      <td>95.83</td>\n",
       "      <td>0.0012</td>\n",
       "      <td>2</td>\n",
       "      <td>3</td>\n",
       "    </tr>\n",
       "  </tbody>\n",
       "</table>\n",
       "</div>"
      ],
      "text/plain": [
       "                 date  temperature  perc_clouds  precip_int  precip_type  day\n",
       "0 2021-09-29 19:00:00        28.11       100.00      0.0010            2   29\n",
       "1 2021-09-30 19:00:00        26.33       100.00      0.0111            2   30\n",
       "2 2021-10-01 19:00:00        36.10       100.00      0.0004            2    1\n",
       "3 2021-10-02 19:00:00        27.88        96.92      0.0008            2    2\n",
       "4 2021-10-03 19:00:00        20.55        95.83      0.0012            2    3"
      ]
     },
     "execution_count": 24,
     "metadata": {},
     "output_type": "execute_result"
    }
   ],
   "source": [
    "#extract day of month from date\n",
    "df['day'] = df['date'].dt.day\n",
    "df.head()"
   ]
  },
  {
   "cell_type": "code",
   "execution_count": 25,
   "metadata": {},
   "outputs": [
    {
     "data": {
      "text/html": [
       "<div>\n",
       "<style scoped>\n",
       "    .dataframe tbody tr th:only-of-type {\n",
       "        vertical-align: middle;\n",
       "    }\n",
       "\n",
       "    .dataframe tbody tr th {\n",
       "        vertical-align: top;\n",
       "    }\n",
       "\n",
       "    .dataframe thead th {\n",
       "        text-align: right;\n",
       "    }\n",
       "</style>\n",
       "<table border=\"1\" class=\"dataframe\">\n",
       "  <thead>\n",
       "    <tr style=\"text-align: right;\">\n",
       "      <th></th>\n",
       "      <th>temperature</th>\n",
       "      <th>perc_clouds</th>\n",
       "      <th>precip_int</th>\n",
       "    </tr>\n",
       "  </thead>\n",
       "  <tbody>\n",
       "    <tr>\n",
       "      <th>count</th>\n",
       "      <td>16.000000</td>\n",
       "      <td>16.000000</td>\n",
       "      <td>16.000000</td>\n",
       "    </tr>\n",
       "    <tr>\n",
       "      <th>mean</th>\n",
       "      <td>19.229375</td>\n",
       "      <td>97.465000</td>\n",
       "      <td>0.001269</td>\n",
       "    </tr>\n",
       "    <tr>\n",
       "      <th>std</th>\n",
       "      <td>8.027329</td>\n",
       "      <td>5.959163</td>\n",
       "      <td>0.002748</td>\n",
       "    </tr>\n",
       "    <tr>\n",
       "      <th>min</th>\n",
       "      <td>1.290000</td>\n",
       "      <td>76.910000</td>\n",
       "      <td>0.000000</td>\n",
       "    </tr>\n",
       "    <tr>\n",
       "      <th>25%</th>\n",
       "      <td>16.327500</td>\n",
       "      <td>98.127500</td>\n",
       "      <td>0.000000</td>\n",
       "    </tr>\n",
       "    <tr>\n",
       "      <th>50%</th>\n",
       "      <td>19.200000</td>\n",
       "      <td>100.000000</td>\n",
       "      <td>0.000400</td>\n",
       "    </tr>\n",
       "    <tr>\n",
       "      <th>75%</th>\n",
       "      <td>21.995000</td>\n",
       "      <td>100.000000</td>\n",
       "      <td>0.001050</td>\n",
       "    </tr>\n",
       "    <tr>\n",
       "      <th>max</th>\n",
       "      <td>36.100000</td>\n",
       "      <td>100.000000</td>\n",
       "      <td>0.011100</td>\n",
       "    </tr>\n",
       "  </tbody>\n",
       "</table>\n",
       "</div>"
      ],
      "text/plain": [
       "       temperature  perc_clouds  precip_int\n",
       "count    16.000000    16.000000   16.000000\n",
       "mean     19.229375    97.465000    0.001269\n",
       "std       8.027329     5.959163    0.002748\n",
       "min       1.290000    76.910000    0.000000\n",
       "25%      16.327500    98.127500    0.000000\n",
       "50%      19.200000   100.000000    0.000400\n",
       "75%      21.995000   100.000000    0.001050\n",
       "max      36.100000   100.000000    0.011100"
      ]
     },
     "execution_count": 25,
     "metadata": {},
     "output_type": "execute_result"
    }
   ],
   "source": [
    "#generate descriptive statistics for numerical columns\n",
    "df[['temperature', 'perc_clouds', 'precip_int']].describe()"
   ]
  },
  {
   "cell_type": "markdown",
   "metadata": {},
   "source": [
    "The average temperature is 21F with 97% cloud coverage. There is almost no precipitation expected. Thus, it's mostly cold, dry, and cloudy in Fairbanks at this time of year."
   ]
  },
  {
   "cell_type": "code",
   "execution_count": 26,
   "metadata": {},
   "outputs": [
    {
     "data": {
      "text/plain": [
       "array([2, 0], dtype=int64)"
      ]
     },
     "execution_count": 26,
     "metadata": {},
     "output_type": "execute_result"
    }
   ],
   "source": [
    "df['precip_type'].unique()"
   ]
  },
  {
   "cell_type": "code",
   "execution_count": 27,
   "metadata": {},
   "outputs": [
    {
     "data": {
      "text/plain": [
       "2    9\n",
       "0    7\n",
       "Name: precip_type, dtype: int64"
      ]
     },
     "execution_count": 27,
     "metadata": {},
     "output_type": "execute_result"
    }
   ],
   "source": [
    "df['precip_type'].value_counts()"
   ]
  },
  {
   "cell_type": "markdown",
   "metadata": {},
   "source": [
    "There are two precipitation types in this dataset. A look at the API documentation shows that these correspond to no precipitation (precipitation type 0) and snow (precipitation type 2). In the 15 days considered, the snowy days (7:15) are almost as many as no snow days (8:15). However, even the snowfall is minimal, at most 0.0111 in/h."
   ]
  },
  {
   "cell_type": "code",
   "execution_count": 28,
   "metadata": {},
   "outputs": [
    {
     "data": {
      "text/plain": [
       "Text(0.5, 1.0, 'Variation of Temperature with Precipitation Intensity in Fairbanks, Alaska')"
      ]
     },
     "execution_count": 28,
     "metadata": {},
     "output_type": "execute_result"
    },
    {
     "data": {
      "image/png": "[encoded data removed]",
      "text/plain": [
       "<Figure size 432x288 with 1 Axes>"
      ]
     },
     "metadata": {
      "needs_background": "light"
     },
     "output_type": "display_data"
    }
   ],
   "source": [
    "x = df['precip_int']\n",
    "y = df['temperature']\n",
    "plt.scatter(x,y)\n",
    "plt.xlabel('Precipitation Intensity (in/h)')\n",
    "plt.ylabel('Temperature (F)')\n",
    "plt.title('Variation of Temperature with Precipitation Intensity in Fairbanks, Alaska')"
   ]
  },
  {
   "cell_type": "markdown",
   "metadata": {},
   "source": [
    "There is almost no precipitation expected, with a temperature range of approximately 25F."
   ]
  },
  {
   "cell_type": "code",
   "execution_count": 29,
   "metadata": {},
   "outputs": [
    {
     "data": {
      "text/plain": [
       "Text(0.5, 1.0, 'Variation of Temperature with Cloud Coverage in Fairbanks, Alaska')"
      ]
     },
     "execution_count": 29,
     "metadata": {},
     "output_type": "execute_result"
    },
    {
     "data": {
      "image/png": "[encoded data removed]",
      "text/plain": [
       "<Figure size 432x288 with 1 Axes>"
      ]
     },
     "metadata": {
      "needs_background": "light"
     },
     "output_type": "display_data"
    }
   ],
   "source": [
    "x = df['perc_clouds']\n",
    "y = df['temperature']\n",
    "plt.scatter(x,y)\n",
    "plt.xlabel('Cloud Coverage (%)')\n",
    "plt.ylabel('Temperature (F)')\n",
    "plt.title('Variation of Temperature with Cloud Coverage in Fairbanks, Alaska')"
   ]
  },
  {
   "cell_type": "markdown",
   "metadata": {},
   "source": [
    "On most days, the cloud coverage is over 80% and usually about 100%. The temperature varies by about 25F."
   ]
  },
  {
   "cell_type": "code",
   "execution_count": 30,
   "metadata": {},
   "outputs": [
    {
     "data": {
      "text/plain": [
       "Text(0.5, 1.0, 'Variation of Precipitation with Increasing Cloud Coverage in Fairbanks, Alaska')"
      ]
     },
     "execution_count": 30,
     "metadata": {},
     "output_type": "execute_result"
    },
    {
     "data": {
      "image/png": "[encoded data removed]",
      "text/plain": [
       "<Figure size 432x288 with 1 Axes>"
      ]
     },
     "metadata": {
      "needs_background": "light"
     },
     "output_type": "display_data"
    }
   ],
   "source": [
    "x = df['perc_clouds']\n",
    "y = df['precip_int']\n",
    "plt.scatter(x,y)\n",
    "plt.xlabel('Cloud Coverage (%)')\n",
    "plt.ylabel('Precipitation Intensity (in/h)')\n",
    "plt.title('Variation of Precipitation with Increasing Cloud Coverage in Fairbanks, Alaska')"
   ]
  },
  {
   "cell_type": "markdown",
   "metadata": {},
   "source": [
    "There is very little precipitation, even with 100% cloud coverage. There is one outlier precipitation intensity of 0.0111 in/h. However, all of the values show very little precipitation."
   ]
  },
  {
   "cell_type": "code",
   "execution_count": 31,
   "metadata": {},
   "outputs": [
    {
     "data": {
      "text/plain": [
       "Text(0.5, 1.0, 'Daily Variation in Temperature in Fairbanks, Alaska')"
      ]
     },
     "execution_count": 31,
     "metadata": {},
     "output_type": "execute_result"
    },
    {
     "data": {
      "image/png": "[encoded data removed]",
      "text/plain": [
       "<Figure size 432x288 with 1 Axes>"
      ]
     },
     "metadata": {
      "needs_background": "light"
     },
     "output_type": "display_data"
    }
   ],
   "source": [
    "x = df['date']\n",
    "y = df['temperature']\n",
    "plt.plot_date(x,y)\n",
    "plt.gcf().autofmt_xdate()\n",
    "date_format = mpl_dates.DateFormatter('%b. %d, %Y')\n",
    "plt.gca().xaxis.set_major_formatter(date_format)\n",
    "plt.xlabel('Date')\n",
    "plt.ylabel('Temperature (F)')\n",
    "plt.title('Daily Variation in Temperature in Fairbanks, Alaska')"
   ]
  },
  {
   "cell_type": "markdown",
   "metadata": {},
   "source": [
    "The temperature is gradually getting cooler. This makes sense since it is now fall."
   ]
  },
  {
   "cell_type": "code",
   "execution_count": 32,
   "metadata": {},
   "outputs": [
    {
     "data": {
      "text/plain": [
       "Text(0.5, 1.0, 'Percent Daily Cloud Coverage in Fairbanks, Alaska')"
      ]
     },
     "execution_count": 32,
     "metadata": {},
     "output_type": "execute_result"
    },
    {
     "data": {
      "image/png": "[encoded data removed]",
      "text/plain": [
       "<Figure size 432x288 with 1 Axes>"
      ]
     },
     "metadata": {
      "needs_background": "light"
     },
     "output_type": "display_data"
    }
   ],
   "source": [
    "x = df['date']\n",
    "y = df['perc_clouds']\n",
    "plt.plot_date(x,y)\n",
    "plt.gcf().autofmt_xdate()\n",
    "date_format = mpl_dates.DateFormatter('%b. %d, %Y')\n",
    "plt.gca().xaxis.set_major_formatter(date_format)\n",
    "plt.xlabel('Date')\n",
    "plt.ylabel('Cloud Coverage (%)')\n",
    "plt.title('Percent Daily Cloud Coverage in Fairbanks, Alaska')"
   ]
  },
  {
   "cell_type": "markdown",
   "metadata": {},
   "source": [
    "It will be almost 100% cloudy on most days."
   ]
  },
  {
   "cell_type": "code",
   "execution_count": 33,
   "metadata": {},
   "outputs": [
    {
     "data": {
      "text/plain": [
       "Text(0.5, 1.0, 'Daily Precipitation in Fairbanks, Alaska')"
      ]
     },
     "execution_count": 33,
     "metadata": {},
     "output_type": "execute_result"
    },
    {
     "data": {
      "image/png": "[encoded data removed]",
      "text/plain": [
       "<Figure size 432x288 with 1 Axes>"
      ]
     },
     "metadata": {
      "needs_background": "light"
     },
     "output_type": "display_data"
    }
   ],
   "source": [
    "x = df['date']\n",
    "y = df['precip_int']\n",
    "plt.plot_date(x,y)\n",
    "plt.gcf().autofmt_xdate()\n",
    "date_format = mpl_dates.DateFormatter('%b. %d, %Y')\n",
    "plt.gca().xaxis.set_major_formatter(date_format)\n",
    "plt.xlabel('Date')\n",
    "plt.ylabel('Precipitation (in/h)')\n",
    "plt.title('Daily Precipitation in Fairbanks, Alaska')"
   ]
  },
  {
   "cell_type": "markdown",
   "metadata": {},
   "source": [
    "Almost no precipitation is expected."
   ]
  },
  {
   "cell_type": "markdown",
   "metadata": {},
   "source": [
    "In conclusion, Fairbanks, Alaska has cloudy, mostly dry (minimal snow) days ahead. Because this dataset only includes 15 days of predictions, it's not enough to hypothesize the weather much further out. However, it's a good dataset for exploratory observations of current weather conditions in Fairbanks."
   ]
  },
  {
   "cell_type": "code",
   "execution_count": null,
   "metadata": {},
   "outputs": [],
   "source": []
  }
 ],
 "metadata": {
  "kernelspec": {
   "display_name": "Python 3",
   "language": "python",
   "name": "python3"
  },
  "language_info": {
   "codemirror_mode": {
    "name": "ipython",
    "version": 3
   },
   "file_extension": ".py",
   "mimetype": "text/x-python",
   "name": "python",
   "nbconvert_exporter": "python",
   "pygments_lexer": "ipython3",
   "version": "3.8.5"
  }
 },
 "nbformat": 4,
 "nbformat_minor": 4
}
